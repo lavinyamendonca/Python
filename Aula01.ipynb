{
  "nbformat": 4,
  "nbformat_minor": 0,
  "metadata": {
    "colab": {
      "provenance": [],
      "authorship_tag": "ABX9TyMdBvr+LVKjGiFCMtDqO651",
      "include_colab_link": true
    },
    "kernelspec": {
      "name": "python3",
      "display_name": "Python 3"
    },
    "language_info": {
      "name": "python"
    }
  },
  "cells": [
    {
      "cell_type": "markdown",
      "metadata": {
        "id": "view-in-github",
        "colab_type": "text"
      },
      "source": [
        "<a href=\"https://colab.research.google.com/github/lavinyamendonca/Python/blob/main/Aula01.ipynb\" target=\"_parent\"><img src=\"https://colab.research.google.com/assets/colab-badge.svg\" alt=\"Open In Colab\"/></a>"
      ]
    },
    {
      "cell_type": "markdown",
      "source": [
        "Operadores elementares: Adição e Subtração\n",
        "\n",
        "Exemplo: adição de custo total para aquisição de matéria-prima. Uma indústria de copos descartáveis teve, no mês de janeiro, um custo de R$ 27.936,10 referente a aquisição de matéria-prima e R$ 1.243,90 referente ao frete. Qual foi o custo total?"
      ],
      "metadata": {
        "id": "CCeCY7WZVW84"
      }
    },
    {
      "cell_type": "code",
      "source": [
        "materiaPrima = 27936.10\n",
        "frete = 1243.90\n",
        "custoTotal = materiaPrima + frete\n",
        "print(custoTotal)"
      ],
      "metadata": {
        "colab": {
          "base_uri": "https://localhost:8080/"
        },
        "id": "mssLtYenVfFm",
        "outputId": "47650c7e-66dc-4ebe-80d3-738fcca5399b"
      },
      "execution_count": 6,
      "outputs": [
        {
          "output_type": "stream",
          "name": "stdout",
          "text": [
            "29180.0\n"
          ]
        }
      ]
    },
    {
      "cell_type": "markdown",
      "source": [
        "Exemplo: Determine a dimensão mínima e a dimensão máxima do diâmetro do eixo:\n",
        "\n",
        "84,728\n",
        "\n",
        "-0,054\n",
        "+0,077\n"
      ],
      "metadata": {
        "id": "kwQ9NGUbXSTu"
      }
    },
    {
      "cell_type": "code",
      "source": [
        "diametro = 84.728\n",
        "max = 0.077\n",
        "min = -0.054\n",
        "\n",
        "diamax = diametro+max\n",
        "diamin = diametro+min\n",
        "\n",
        "print('Diâmetro máximo: ', diamax, 'Diâmetro mínimo: ', diamin)\n",
        "\n",
        "print('Com controle de casas decimais:')\n",
        "print('%.2f'% diamax, '%.2f'% diamin)"
      ],
      "metadata": {
        "colab": {
          "base_uri": "https://localhost:8080/"
        },
        "id": "PPY8FdUjX2J4",
        "outputId": "c9fa5df3-4f88-443c-c114-3a02c0c33a65"
      },
      "execution_count": 13,
      "outputs": [
        {
          "output_type": "stream",
          "name": "stdout",
          "text": [
            "Diâmetro máximo:  84.80499999999999 Diâmetro mínimo:  84.67399999999999\n",
            "Com controle de casas decimais:\n",
            "84.80 84.67\n"
          ]
        }
      ]
    },
    {
      "cell_type": "code",
      "source": [],
      "metadata": {
        "id": "bgImD5s4YDCH"
      },
      "execution_count": null,
      "outputs": []
    }
  ]
}